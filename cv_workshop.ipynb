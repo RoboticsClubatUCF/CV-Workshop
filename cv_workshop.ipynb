{
  "nbformat": 4,
  "nbformat_minor": 0,
  "metadata": {
    "colab": {
      "provenance": [],
      "collapsed_sections": [],
      "authorship_tag": "ABX9TyNMzX1c/I+X4aivekFWziTk",
      "include_colab_link": true
    },
    "kernelspec": {
      "name": "python3",
      "display_name": "Python 3"
    },
    "language_info": {
      "name": "python"
    }
  },
  "cells": [
    {
      "cell_type": "markdown",
      "metadata": {
        "id": "view-in-github",
        "colab_type": "text"
      },
      "source": [
        "<a href=\"https://colab.research.google.com/github/RoboticsClubatUCF/CV-Workshop/blob/workshop/cv_workshop.ipynb\" target=\"_parent\"><img src=\"https://colab.research.google.com/assets/colab-badge.svg\" alt=\"Open In Colab\"/></a>"
      ]
    },
    {
      "cell_type": "code",
      "execution_count": null,
      "metadata": {
        "id": "fctsg4lEt0Dd"
      },
      "outputs": [],
      "source": [
        "# Library Imports"
      ]
    },
    {
      "cell_type": "code",
      "source": [
        "# Get Image"
      ],
      "metadata": {
        "id": "LcVlASmA8zcg"
      },
      "execution_count": null,
      "outputs": []
    },
    {
      "cell_type": "code",
      "source": [
        "# Image preprocessing"
      ],
      "metadata": {
        "id": "TN7cbNV96RVP"
      },
      "execution_count": null,
      "outputs": []
    },
    {
      "cell_type": "code",
      "source": [
        "# Perspective Transform"
      ],
      "metadata": {
        "id": "Hs37s5q-6fvM"
      },
      "execution_count": null,
      "outputs": []
    },
    {
      "cell_type": "code",
      "source": [
        "# Lane isolation and inverse transform"
      ],
      "metadata": {
        "id": "nuhXeucq8ka3"
      },
      "execution_count": null,
      "outputs": []
    },
    {
      "cell_type": "code",
      "source": [
        "# Show image"
      ],
      "metadata": {
        "id": "YotXJ4DW8r5S"
      },
      "execution_count": null,
      "outputs": []
    }
  ]
}